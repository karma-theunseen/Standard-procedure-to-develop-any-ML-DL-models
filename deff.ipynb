{
  "nbformat": 4,
  "nbformat_minor": 0,
  "metadata": {
    "colab": {
      "provenance": [],
      "mount_file_id": "13_6zHsqnaNTD4Z30k8nU3krPzGWXXBn1",
      "authorship_tag": "ABX9TyN5UBIdJl36ABJmmTc2HxiT",
      "include_colab_link": true
    },
    "kernelspec": {
      "name": "python3",
      "display_name": "Python 3"
    },
    "language_info": {
      "name": "python"
    }
  },
  "cells": [
    {
      "cell_type": "markdown",
      "metadata": {
        "id": "view-in-github",
        "colab_type": "text"
      },
      "source": [
        "<a href=\"https://colab.research.google.com/github/karma-theunseen/Standard-procedure-to-develop-any-ML-DL-models/blob/main/deff.ipynb\" target=\"_parent\"><img src=\"https://colab.research.google.com/assets/colab-badge.svg\" alt=\"Open In Colab\"/></a>"
      ]
    },
    {
      "cell_type": "code",
      "execution_count": 1,
      "metadata": {
        "id": "NXiEE5iW7PWJ"
      },
      "outputs": [],
      "source": [
        " import pandas as pd\n",
        "import numpy as np\n",
        "from datetime import datetime, timedelta\n",
        ""
      ]
    },
    {
      "cell_type": "code",
      "source": [
        "def generate_normal_traffic():\n",
        "  \"\"\" Generate normal traffic data.\"\"\"\n",
        "  return {\n",
        "      'timestamp': datetime.now() - timedelta(seconds=np.random.randint(0, 86400)),\n",
        "      'source_ip' : f'192.168.{np.random.randint(0, 255)}.(np.random.radiant(0, 255))',\n",
        "      'destination_ip': f'10.0.{np.random.randint(0, 255)}.(np.random.radiant(0, 255))',\n",
        "      'protocol' : np.random.choice(['TCP','UDP','ICMP']),\n",
        "      'port': np.random.randint(1, 65535),\n",
        "      'bytes': np.random.normal(1500, 500),\n",
        "      'packets': np.random.randint(1,100),\n",
        "      'duration': np.random.exponential(30),\n",
        "      'is_attack': 0\n",
        "  }\n",
        "  return {\n",
        "      'timestamp': datetime.now() - timedelta(seconds= np.random.randint(0, 86400)),\n",
        "      'source_ip': f\"45.(np.random.randint(1, 255).(np.random.randint(1, 255).(np.random.randint(1, 255))\",\n",
        "      'destination_ip': f\"10.0{np.random.randint(1, 255)}.{np.random.randint(1, 255)}\",\n",
        "      'protocol': np.random.choice(['TCP', 'UDP', 'ICMP'], p=[0.8, 0.1, 0.1]),\n",
        "      'port': np.random.randint(1, 65535),\n",
        "      'bytes': np.random.normal('bytes'),\n",
        "      'packets': np.random.randint('packets'),\n",
        "      'duration': np.random.exponential('duration'),\n",
        "      'is_attack': 1,\n",
        "      'attack_type': attack_types,\n",
        "  }"
      ],
      "metadata": {
        "id": "WRI8wpKB7Ssh"
      },
      "execution_count": 2,
      "outputs": []
    },
    {
      "cell_type": "code",
      "source": [
        "def generate_attack_traffic():\n",
        "  \"\"\"Generate attack traffic data\"\"\"\n",
        "  attack_types = {\n",
        "      'ddos': {\n",
        "          'bytes': np.random.normal(15000, 1000),\n",
        "          'packets': np.random.randint(500,1000),\n",
        "          'duration': np.random.exponential(5)\n",
        "      },\n",
        "      'port_scan': {\n",
        "          'bytes': np.random.normal(100, 20),\n",
        "          'packets': np.random.randint(1, 3),\n",
        "          'duration': np.random.exponential(0.1)\n",
        "      },\n",
        "      'brute-force': {\n",
        "          'bytes': np.random.normal(500, 100),\n",
        "          'packets': np.random.randint(10, 50),\n",
        "          'duration': np.random.exponential(1)\n",
        "      },\n",
        "  }\n",
        "\n",
        "  attack_type = np.random.choice(list(attack_types.keys()))\n",
        "  attack_params = attack_types[attack_type]\n",
        "\n",
        "\n",
        "  return {\n",
        "      'timestamp': datetime.now() - timedelta(seconds= np.random.randint(0, 86400)),\n",
        "      'source_ip': f\"45.{np.random.randint(1, 255)}.{np.random.randint(1, 255)}.{np.random.randint(1, 255)}\",\n",
        "      'destination_ip': f\"10.0.{np.random.randint(1, 255)}.{np.random.randint(1, 255)}\",\n",
        "      'protocol': np.random.choice(['TCP', 'UDP', 'ICMP'], p=[0.8, 0.1, 0.1]),\n",
        "      'port': np.random.randint(1, 65535),\n",
        "      'bytes': attack_params['bytes'],\n",
        "      'packets': attack_params['packets'],\n",
        "      'duration': attack_params['duration'],\n",
        "      'is_attack': 1,\n",
        "      'attack_type': attack_type # Changed from attack_types to attack_type\n",
        "  }"
      ],
      "metadata": {
        "id": "scw_H2lk7Vs_"
      },
      "execution_count": 3,
      "outputs": []
    },
    {
      "cell_type": "markdown",
      "source": [],
      "metadata": {
        "id": "-yZKevEi7SWp"
      }
    },
    {
      "cell_type": "code",
      "source": [
        "def generate_dataset(normal_samples=10000, attack_samples=1000):\n",
        "  normal_traffic = [generate_normal_traffic() for _ in range(normal_samples)]\n",
        "  attack_traffic = [generate_attack_traffic() for _ in range(normal_samples)]\n",
        "  all_traffic = normal_traffic + attack_traffic\n",
        "  df = pd.DataFrame(all_traffic)\n",
        "  return df"
      ],
      "metadata": {
        "id": "pzSH_J4o7ZYI"
      },
      "execution_count": 4,
      "outputs": []
    },
    {
      "cell_type": "code",
      "source": [
        "#Save the dataset in google drive. You need to mount drive\n",
        "training_data = generate_dataset()\n",
        "training_data.to_csv('/content/drive/MyDrive/Colab Notebooks/deff.ipynb', index=False)\n",
        "import pandas as pd\n",
        "import numpy as np\n",
        "from datetime import datetime, timedelta"
      ],
      "metadata": {
        "id": "VXTjliI87bpK"
      },
      "execution_count": 5,
      "outputs": []
    },
    {
      "cell_type": "code",
      "source": [
        "\n",
        "#generate test data\n",
        "test_data = generate_dataset()\n",
        "test_data.to_csv('/content/drive/MyDrive/Colab Notebooks/test_data.csv', index=False)\n"
      ],
      "metadata": {
        "id": "4WFNQaxe7fVt"
      },
      "execution_count": 6,
      "outputs": []
    }
  ]
}